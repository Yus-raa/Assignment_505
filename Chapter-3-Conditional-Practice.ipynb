{
 "cells": [
  {
   "cell_type": "code",
   "execution_count": 3,
   "id": "f5798c3d-fad1-4289-841d-5be018c3edac",
   "metadata": {},
   "outputs": [
    {
     "name": "stdout",
     "output_type": "stream",
     "text": [
      "Smaller\n",
      "Finish\n"
     ]
    }
   ],
   "source": [
    "# Conditional Steps\n",
    "x = 5\n",
    "if x < 10:\n",
    "    print(\"Smaller\")\n",
    "if x > 20:\n",
    "    print(\"Bigger\")\n",
    "print(\"Finish\")"
   ]
  },
  {
   "cell_type": "code",
   "execution_count": 7,
   "id": "1a0c8289-8cd0-4b69-b092-c34cbf724712",
   "metadata": {},
   "outputs": [
    {
     "name": "stdout",
     "output_type": "stream",
     "text": [
      "Equals 5\n",
      "Greater than 4\n",
      "Greater than or Equals 5\n",
      "Less than 6\n",
      "Less than or Equals 5\n",
      "Not equal 6\n"
     ]
    }
   ],
   "source": [
    "# Comparison Operators\n",
    "# < Less than\n",
    "# <= Less than or Equal to\n",
    "# == Equal to\n",
    "# >= Greater than or Equal to\n",
    "# > Greater than\n",
    "# != Not equal\n",
    "x = 5\n",
    "if x == 5 : \n",
    "    print('Equals 5')\n",
    "if x > 4 : \n",
    "    print('Greater than 4')\n",
    "if x >= 5 :\n",
    "    print('Greater than or Equals 5')\n",
    "if x < 6 : \n",
    "    print('Less than 6') \n",
    "if x <= 5 :\n",
    "    print('Less than or Equals 5')\n",
    "if x != 6 :\n",
    "    print('Not equal 6')"
   ]
  },
  {
   "cell_type": "code",
   "execution_count": 11,
   "id": "8b1fd7b6-3047-47d1-ab76-8f04ae47ca51",
   "metadata": {},
   "outputs": [
    {
     "name": "stdout",
     "output_type": "stream",
     "text": [
      "Before 5\n",
      "Is 5\n",
      "Is Still 5\n",
      "Third 5\n",
      "Afterwards 5\n",
      "Before 6\n",
      "Afterwards 6\n"
     ]
    }
   ],
   "source": [
    "x = 5\n",
    "print('Before 5')\n",
    "if x == 5 :\n",
    "    print('Is 5')\n",
    "    print('Is Still 5')\n",
    "    print('Third 5')\n",
    "print('Afterwards 5')\n",
    "print('Before 6')\n",
    "if x == 6 :\n",
    "    print('Is 6')\n",
    "    print('Is Still 6')\n",
    "    print('Third 6')\n",
    "print('Afterwards 6')"
   ]
  },
  {
   "cell_type": "code",
   "execution_count": 15,
   "id": "5e6cd400-fcbe-4396-a451-21a0c66d48cb",
   "metadata": {},
   "outputs": [
    {
     "name": "stdout",
     "output_type": "stream",
     "text": [
      "Bigger than 2\n",
      "Still bigger\n",
      "Done with 2\n",
      "0\n",
      "Done with i 0\n",
      "1\n",
      "Done with i 1\n",
      "2\n",
      "Done with i 2\n",
      "3\n",
      "Bigger than 2\n",
      "Done with i 3\n",
      "4\n",
      "Bigger than 2\n",
      "Done with i 4\n",
      "All Done\n"
     ]
    }
   ],
   "source": [
    "# Indentation\n",
    "x = 5\n",
    "if x > 2 :\n",
    "    print('Bigger than 2')\n",
    "    print('Still bigger')\n",
    "print('Done with 2')\n",
    "for i in range(5) :\n",
    "    print(i)\n",
    "    if i > 2 : \n",
    "        print('Bigger than 2')\n",
    "    print('Done with i', i)\n",
    "print('All Done')"
   ]
  },
  {
   "cell_type": "code",
   "execution_count": 17,
   "id": "f635225b-aa77-4e78-9781-1988bad295c0",
   "metadata": {},
   "outputs": [
    {
     "name": "stdout",
     "output_type": "stream",
     "text": [
      "More than one\n",
      "Less than 100\n",
      "All done\n"
     ]
    }
   ],
   "source": [
    "# Nested Decisions\n",
    "x = 42\n",
    "if x > 1 :\n",
    "    print('More than one')\n",
    "    if x < 100 : \n",
    "        print('Less than 100') \n",
    "print('All done')"
   ]
  },
  {
   "cell_type": "code",
   "execution_count": 19,
   "id": "6adcd421-2e71-4b7f-8bdf-1d8b2e26b732",
   "metadata": {},
   "outputs": [
    {
     "name": "stdout",
     "output_type": "stream",
     "text": [
      "Bigger\n",
      "All done\n"
     ]
    }
   ],
   "source": [
    "# Two-way Decisions: we must choose one or the other path but not both.\n",
    "# else:\n",
    "x = 4\n",
    "if x > 2 :\n",
    "    print('Bigger')\n",
    "else :\n",
    "    print('Smaller')\n",
    "    \n",
    "print('All done')"
   ]
  },
  {
   "cell_type": "code",
   "execution_count": 23,
   "id": "973662f4-afad-4749-ae7e-d3c76dc45bd3",
   "metadata": {},
   "outputs": [
    {
     "name": "stdout",
     "output_type": "stream",
     "text": [
      "small\n",
      "All done\n"
     ]
    }
   ],
   "source": [
    "# Multi-way\n",
    "# if:\n",
    "x = 0\n",
    "if x < 2 :\n",
    "    print('small')\n",
    "elif x < 10 :\n",
    "    print('Medium')\n",
    "else :\n",
    "    print('LARGE')\n",
    "print('All done')"
   ]
  },
  {
   "cell_type": "code",
   "execution_count": 25,
   "id": "28dca831-fafb-4230-ab49-e28abfb7a5e0",
   "metadata": {},
   "outputs": [
    {
     "name": "stdout",
     "output_type": "stream",
     "text": [
      "Medium\n",
      "All done\n"
     ]
    }
   ],
   "source": [
    "# Multi-way\n",
    "# elif\n",
    "x = 5\n",
    "if x < 2 :\n",
    "    print('small')\n",
    "elif x < 10 :\n",
    "    print('Medium')\n",
    "else :\n",
    "    print('LARGE')\n",
    "print('All done')"
   ]
  },
  {
   "cell_type": "code",
   "execution_count": 27,
   "id": "85765cd4-0f00-432a-8ce9-8a8f76ffd36e",
   "metadata": {},
   "outputs": [
    {
     "name": "stdout",
     "output_type": "stream",
     "text": [
      "LARGE\n",
      "All done\n"
     ]
    }
   ],
   "source": [
    "# Multi-way\n",
    "# else\n",
    "x = 20\n",
    "if x < 2 :\n",
    "    print('small')\n",
    "elif x < 10 :\n",
    "    print('Medium')\n",
    "else :\n",
    "    print('LARGE')\n",
    "print('All done')"
   ]
  },
  {
   "cell_type": "code",
   "execution_count": 29,
   "id": "0a07c413-c4fb-4ccd-a2d8-000920857c97",
   "metadata": {},
   "outputs": [
    {
     "name": "stdout",
     "output_type": "stream",
     "text": [
      "Medium\n",
      "All done\n"
     ]
    }
   ],
   "source": [
    "# No Else\n",
    "x = 5\n",
    "if x < 2 :\n",
    "    print('Small')\n",
    "elif x < 10 :\n",
    "    print('Medium')\n",
    "print('All done')"
   ]
  },
  {
   "cell_type": "code",
   "execution_count": 31,
   "id": "261105fc-b1d6-4bcc-a860-ba9e1e69e306",
   "metadata": {},
   "outputs": [
    {
     "name": "stdout",
     "output_type": "stream",
     "text": [
      "Medium\n"
     ]
    }
   ],
   "source": [
    "x = 5 \n",
    "if x < 2 :\n",
    "    print('Small')\n",
    "elif x < 10 :\n",
    "    print('Medium')\n",
    "elif x < 20 : \n",
    "    print('Big')\n",
    "elif x < 40 : \n",
    "    print('Large')\n",
    "elif x < 100:\n",
    "    print('Huge')\n",
    "else :\n",
    "    print('Ginormous')"
   ]
  },
  {
   "cell_type": "code",
   "execution_count": 33,
   "id": "5aba52ef-cf81-4433-a85d-70ba157e6362",
   "metadata": {},
   "outputs": [
    {
     "name": "stdout",
     "output_type": "stream",
     "text": [
      "Two or more\n",
      "Below 20\n"
     ]
    }
   ],
   "source": [
    "# Which will never print regardless of the value for x?\n",
    "x = 9\n",
    "if x < 2 :\n",
    "    print('Below 2')\n",
    "elif x >= 2 : \n",
    "    print('Two or more')\n",
    "else :\n",
    "    print('Something else')\n",
    "\n",
    "if x < 2 :\n",
    "    print('Below 2')\n",
    "elif x < 20 :\n",
    "    print('Below 20')\n",
    "elif x < 10 : \n",
    "    print('Below 10') # it will never be printed because the of the above 'below 20' condition.\n",
    "else :\n",
    "    print('Something else')"
   ]
  },
  {
   "cell_type": "code",
   "execution_count": 37,
   "id": "1de6a617-64f7-4635-9852-fe1550718aca",
   "metadata": {},
   "outputs": [
    {
     "name": "stdout",
     "output_type": "stream",
     "text": [
      "First -1\n",
      "Second 123\n"
     ]
    }
   ],
   "source": [
    "# The try / except Structure\n",
    "# • You surround a dangerous section of code with try and except\n",
    "# • If the code in the try works - the except is skipped\n",
    "# • If the code in the try fails - it jumps to the except section\n",
    "astr = 'Hello Bob'\n",
    "try:\n",
    "    istr = int(astr)\n",
    "except:\n",
    "    istr = -1\n",
    "print('First', istr)\n",
    "astr = '123'\n",
    "try:\n",
    "    istr = int(astr)\n",
    "except:\n",
    "    istr = -1\n",
    "print('Second', istr)"
   ]
  },
  {
   "cell_type": "code",
   "execution_count": 39,
   "id": "38c5a80e-eafe-4adb-bb15-cbc245dcceec",
   "metadata": {},
   "outputs": [
    {
     "name": "stdout",
     "output_type": "stream",
     "text": [
      "Hello\n",
      "Done -1\n"
     ]
    }
   ],
   "source": [
    "astr = 'Bob'\n",
    "try:\n",
    "    print('Hello') \n",
    "    istr = int(astr)\n",
    "    print('There') \n",
    "except:\n",
    "    istr = -1\n",
    "print('Done', istr) "
   ]
  },
  {
   "cell_type": "code",
   "execution_count": 41,
   "id": "54dc5e67-6b35-4a83-b5cf-46a0c63c948c",
   "metadata": {},
   "outputs": [
    {
     "name": "stdin",
     "output_type": "stream",
     "text": [
      "Enter a number: dt\n"
     ]
    },
    {
     "name": "stdout",
     "output_type": "stream",
     "text": [
      "Not a number\n"
     ]
    }
   ],
   "source": [
    "# Sample \n",
    "rawstr = input('Enter a number:')\n",
    "try: \n",
    "    ival = int(rawstr)\n",
    "except: \n",
    "    ival = -1\n",
    "    \n",
    "if ival > 0 : \n",
    "    print('Nice work')\n",
    "else: \n",
    "    print('Not a number')"
   ]
  },
  {
   "cell_type": "code",
   "execution_count": 67,
   "id": "d9a64546-e48c-4a82-aa52-d53c2038a5a6",
   "metadata": {},
   "outputs": [
    {
     "name": "stdin",
     "output_type": "stream",
     "text": [
      "Enter Hours:  45\n",
      "Enter rate:  10\n"
     ]
    },
    {
     "name": "stdout",
     "output_type": "stream",
     "text": [
      "Pay:  475.0\n"
     ]
    }
   ],
   "source": [
    "# Rewrite your pay computation to give the employee 1.5 times the hourly rate for hours worked above 40 hours.\n",
    "hours = input(\"Enter Hours: \")\n",
    "rate = input(\"Enter rate: \")\n",
    "hr = int(hours)\n",
    "rt = int(rate)\n",
    "\n",
    "if hr > 40:\n",
    "    overtime = hr - 40\n",
    "    pay = ( 40 * rt ) + ( overtime * rt  * 1.5 )\n",
    "else:\n",
    "    pay = hr * rt\n",
    "print(\"Pay: \", pay)"
   ]
  },
  {
   "cell_type": "code",
   "execution_count": 77,
   "id": "1f6edf9a-10d4-4d9f-af82-b4d6dee2b774",
   "metadata": {},
   "outputs": [
    {
     "name": "stdin",
     "output_type": "stream",
     "text": [
      "Enter Hours:  20\n",
      "Enter rate:  nine\n"
     ]
    },
    {
     "name": "stdout",
     "output_type": "stream",
     "text": [
      "Error, Please Enter Numeric Input!\n",
      "Pay:  200\n"
     ]
    }
   ],
   "source": [
    "# Rewrite your pay program using try and except so that your program handles non-numeric input gracefully.\n",
    "hours = input(\"Enter Hours: \")\n",
    "rate = input(\"Enter rate: \")\n",
    "try:\n",
    "    hr = int(hours)\n",
    "except:\n",
    "    print(\"Error, Please Enter Numeric Input!\")\n",
    "try:\n",
    "    rt = int(rate)\n",
    "except:\n",
    "    print(\"Error, Please Enter Numeric Input!\")\n",
    "\n",
    "if hr > 40:\n",
    "    overtime = hr - 40\n",
    "    pay = ( 40 * rt ) + ( overtime * rt  * 1.5 )\n",
    "\n",
    "else:\n",
    "    pay = hr * rt\n",
    "print(\"Pay: \", pay)"
   ]
  },
  {
   "cell_type": "code",
   "execution_count": null,
   "id": "02c52c26-21e1-49c4-88fe-2bdb0eddf801",
   "metadata": {},
   "outputs": [],
   "source": []
  }
 ],
 "metadata": {
  "kernelspec": {
   "display_name": "Python 3 (ipykernel)",
   "language": "python",
   "name": "python3"
  },
  "language_info": {
   "codemirror_mode": {
    "name": "ipython",
    "version": 3
   },
   "file_extension": ".py",
   "mimetype": "text/x-python",
   "name": "python",
   "nbconvert_exporter": "python",
   "pygments_lexer": "ipython3",
   "version": "3.12.4"
  }
 },
 "nbformat": 4,
 "nbformat_minor": 5
}
