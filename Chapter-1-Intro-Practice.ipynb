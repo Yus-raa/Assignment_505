{
 "cells": [
  {
   "cell_type": "code",
   "execution_count": 3,
   "id": "5f22bf97-a7dc-40fe-abe1-3fbf14cda6e7",
   "metadata": {},
   "outputs": [
    {
     "name": "stdout",
     "output_type": "stream",
     "text": [
      "4\n"
     ]
    }
   ],
   "source": [
    "x = 2 #Assignment Statement\n",
    "x = x + 2 #Assignment with Expression\n",
    "print(x) #Print Statement\n",
    "# x is a Variable\n",
    "# + is an Operator\n",
    "# 2 is a constant\n",
    "# print() is a function"
   ]
  },
  {
   "cell_type": "code",
   "execution_count": 1,
   "id": "f15f6617-92e9-4b40-b3c2-06b197563a70",
   "metadata": {},
   "outputs": [
    {
     "name": "stdout",
     "output_type": "stream",
     "text": [
      "1\n",
      "2\n",
      "1\n",
      "2\n"
     ]
    }
   ],
   "source": [
    ">>> x = 1\n",
    ">>> print(x)\n",
    ">>> x = x + 1\n",
    ">>> print(x)\n",
    ">>> exit()\n",
    "# This is interactive python, means it will run one line give it's output and then to the next, it is good for experiments and programs of 3-4 lines.\n",
    "# You type directly to Python one line at a time and it responds."
   ]
  },
  {
   "cell_type": "code",
   "execution_count": 1,
   "id": "abb497ab-f779-4922-8aab-6f10186b1c4c",
   "metadata": {},
   "outputs": [
    {
     "name": "stdout",
     "output_type": "stream",
     "text": [
      "2\n",
      "4\n"
     ]
    }
   ],
   "source": [
    "# Sequential Steps \n",
    "x = 2\n",
    "print(x)\n",
    "x = x + 2\n",
    "print(x)\n",
    "# When a program is running, it flows from one step to the next. As programmers, we set up “paths” for the program to follow."
   ]
  },
  {
   "cell_type": "code",
   "execution_count": 3,
   "id": "7ad41522-401d-4ff4-b1ff-0b4b2867d586",
   "metadata": {},
   "outputs": [
    {
     "name": "stdout",
     "output_type": "stream",
     "text": [
      "Smaller\n",
      "Finis\n"
     ]
    }
   ],
   "source": [
    "# Conditional Steps\n",
    "x = 5\n",
    "if x < 10:\n",
    "    print('Smaller')\n",
    "if x > 20:\n",
    "    print('Bigger')\n",
    "    \n",
    "print('Finis')"
   ]
  },
  {
   "cell_type": "code",
   "execution_count": 7,
   "id": "4e3af57a-39cb-4cf4-b5e3-32bcf19bfa3e",
   "metadata": {},
   "outputs": [
    {
     "name": "stdout",
     "output_type": "stream",
     "text": [
      "5\n",
      "4\n",
      "3\n",
      "2\n",
      "1\n",
      "Blastoff!\n"
     ]
    }
   ],
   "source": [
    "# Repeated Steps\n",
    "n = 5\n",
    "while n > 0 :\n",
    "    print(n)\n",
    "    n = n - 1\n",
    "print('Blastoff!')"
   ]
  },
  {
   "cell_type": "code",
   "execution_count": null,
   "id": "161369e5-b339-4d04-8146-927e254520da",
   "metadata": {},
   "outputs": [],
   "source": []
  }
 ],
 "metadata": {
  "kernelspec": {
   "display_name": "Python 3 (ipykernel)",
   "language": "python",
   "name": "python3"
  },
  "language_info": {
   "codemirror_mode": {
    "name": "ipython",
    "version": 3
   },
   "file_extension": ".py",
   "mimetype": "text/x-python",
   "name": "python",
   "nbconvert_exporter": "python",
   "pygments_lexer": "ipython3",
   "version": "3.12.4"
  }
 },
 "nbformat": 4,
 "nbformat_minor": 5
}
