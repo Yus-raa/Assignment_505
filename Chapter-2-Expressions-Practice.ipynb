{
 "cells": [
  {
   "cell_type": "code",
   "execution_count": 1,
   "id": "f44e40f0-9f64-41e9-bc82-6365488cf009",
   "metadata": {},
   "outputs": [
    {
     "name": "stdout",
     "output_type": "stream",
     "text": [
      "123\n",
      "98.6\n",
      "Hello world\n"
     ]
    }
   ],
   "source": [
    "# Constants\n",
    ">>> print(123) # Numeric Constant\n",
    ">>> print(98.6)\n",
    ">>> print('Hello world') # String constants"
   ]
  },
  {
   "cell_type": "code",
   "execution_count": 7,
   "id": "aa17a408-367a-42b7-a981-c9abdc0e3dfb",
   "metadata": {},
   "outputs": [
    {
     "name": "stdout",
     "output_type": "stream",
     "text": [
      "12.2\n",
      "14\n"
     ]
    }
   ],
   "source": [
    "# Variables\n",
    "x = 12.2\n",
    "print(x)\n",
    "y = 14\n",
    "print(y)"
   ]
  },
  {
   "cell_type": "code",
   "execution_count": 5,
   "id": "d262f5a4-aacc-4818-9255-bf918edc7290",
   "metadata": {},
   "outputs": [
    {
     "name": "stdout",
     "output_type": "stream",
     "text": [
      "12.2\n",
      "14\n",
      "100\n"
     ]
    }
   ],
   "source": [
    "# You can change the contents of a variable in a later statement\n",
    "x = 12.2\n",
    "print(x)\n",
    "y = 14\n",
    "print(y)\n",
    "x = 100\n",
    "print(x)"
   ]
  },
  {
   "cell_type": "code",
   "execution_count": 11,
   "id": "00500869-d931-40b3-9361-606f7b7c5835",
   "metadata": {},
   "outputs": [
    {
     "name": "stdout",
     "output_type": "stream",
     "text": [
      "437.5\n"
     ]
    }
   ],
   "source": [
    "# What is this bit of code doing?\n",
    "x1q3z9ocd = 35.0 # Variable 1 \n",
    "x1q3z9afd = 12.50 # Variable 2\n",
    "x1q3p9afd = x1q3z9ocd * x1q3z9afd # Variable 3 = (Variable 1) * (Variable 2)\n",
    "print(x1q3p9afd) # print(Variable 3)"
   ]
  },
  {
   "cell_type": "code",
   "execution_count": 17,
   "id": "e74407ae-befe-4eb6-8b4f-5851daeaa767",
   "metadata": {},
   "outputs": [
    {
     "name": "stdout",
     "output_type": "stream",
     "text": [
      "0.9359999999999999\n",
      "0.2336256000000002\n"
     ]
    }
   ],
   "source": [
    "# Assignment Statements\n",
    "x = 0.6\n",
    "x = 3.9 * x * ( 1 - x )\n",
    "print(x)\n",
    "x = 3.9 * x * ( 1 - x ) # The Value of x has changed\n",
    "print(x)"
   ]
  },
  {
   "cell_type": "code",
   "execution_count": 38,
   "id": "6cf978eb-0982-4870-bfa7-2c265f6b3180",
   "metadata": {},
   "outputs": [
    {
     "name": "stdout",
     "output_type": "stream",
     "text": [
      "4\n",
      "5280\n",
      "5.28\n",
      "3\n",
      "64\n"
     ]
    }
   ],
   "source": [
    "# Numeric Expressions\n",
    ">>> x = 2\n",
    ">>> x = x + 2 # Addition\n",
    ">>> print(x)\n",
    "\n",
    ">>> yy = 440 * 12 # Multiplycation\n",
    ">>> print(yy)\n",
    "\n",
    ">>> zz = yy / 1000 # Division\n",
    ">>> print(zz)\n",
    "\n",
    ">>> jj = 23\n",
    ">>> kk = jj % 5 # Remainder\n",
    ">>> print(kk)\n",
    "\n",
    ">>> print(4 ** 3) # Power"
   ]
  },
  {
   "cell_type": "code",
   "execution_count": 52,
   "id": "2571b4b9-2bb1-411e-bffd-7ce5e9e103fa",
   "metadata": {},
   "outputs": [
    {
     "name": "stdout",
     "output_type": "stream",
     "text": [
      "6.999744\n",
      "11.0\n"
     ]
    }
   ],
   "source": [
    "# Operator Precedence\n",
    "x = 1 + 2 * 3 - 4 / 5 ** 6\n",
    "# = 1 + 2 * 3 - 4 / 3125\n",
    "# = 1 + 6 - 4 / 3125\n",
    "# = 1 + 6 - 4 / 3125\n",
    "# = 1 + 6 - 0.00128\n",
    "# = 7 - 0.00128\n",
    "# = 6.99...\n",
    "print(x)\n",
    "\n",
    "# Parenthesis\n",
    "# Power\n",
    "# Multiplication, Division, and Remainder\n",
    "# Addition & Subraction\n",
    "# Left to Righ\n",
    "\n",
    "x = 1 + 2 ** 3 / 4 * 5\n",
    "print(x)"
   ]
  },
  {
   "cell_type": "code",
   "execution_count": 54,
   "id": "0412a140-44fd-4269-a209-542cab8e4670",
   "metadata": {},
   "outputs": [
    {
     "name": "stdout",
     "output_type": "stream",
     "text": [
      "5\n",
      "hello there\n"
     ]
    }
   ],
   "source": [
    ">>> ddd = 1 + 4 # Addition because the type is Numbers\n",
    ">>> print(ddd)\n",
    "\n",
    ">>> eee = 'hello ' + 'there' # Concatenation because the type is String\n",
    ">>> print(eee)\n"
   ]
  },
  {
   "cell_type": "code",
   "execution_count": 72,
   "id": "418b4c0f-7902-4126-bf67-14d0ccac7869",
   "metadata": {},
   "outputs": [
    {
     "data": {
      "text/plain": [
       "str"
      ]
     },
     "execution_count": 72,
     "metadata": {},
     "output_type": "execute_result"
    }
   ],
   "source": [
    "# We can ask Python what type something is by using the type() function.\n",
    "eee  = 'hello ' + 'there'\n",
    "type(eee)"
   ]
  },
  {
   "cell_type": "code",
   "execution_count": 68,
   "id": "dc760c38-8302-403e-8164-fc03c138cd0b",
   "metadata": {},
   "outputs": [
    {
     "data": {
      "text/plain": [
       "str"
      ]
     },
     "execution_count": 68,
     "metadata": {},
     "output_type": "execute_result"
    }
   ],
   "source": [
    "type('hello')"
   ]
  },
  {
   "cell_type": "code",
   "execution_count": 70,
   "id": "603562fa-049c-482d-a43f-45c58694e037",
   "metadata": {},
   "outputs": [
    {
     "data": {
      "text/plain": [
       "int"
      ]
     },
     "execution_count": 70,
     "metadata": {},
     "output_type": "execute_result"
    }
   ],
   "source": [
    "type(1)"
   ]
  },
  {
   "cell_type": "code",
   "execution_count": 80,
   "id": "61d8341f-8c07-48a8-86e0-cdc0c07b138b",
   "metadata": {},
   "outputs": [
    {
     "data": {
      "text/plain": [
       "int"
      ]
     },
     "execution_count": 80,
     "metadata": {},
     "output_type": "execute_result"
    }
   ],
   "source": [
    "# Types of Numbers\n",
    "xx = 1\n",
    "type (xx)"
   ]
  },
  {
   "cell_type": "code",
   "execution_count": 82,
   "id": "32e4b9a5-d7eb-4a36-814c-b6df67200e67",
   "metadata": {},
   "outputs": [
    {
     "data": {
      "text/plain": [
       "float"
      ]
     },
     "execution_count": 82,
     "metadata": {},
     "output_type": "execute_result"
    }
   ],
   "source": [
    "temp = 98.6\n",
    "type(temp)"
   ]
  },
  {
   "cell_type": "code",
   "execution_count": 86,
   "id": "d75e63fb-4f2f-484b-acbe-a953272643a2",
   "metadata": {},
   "outputs": [
    {
     "name": "stdout",
     "output_type": "stream",
     "text": [
      "199.0\n"
     ]
    }
   ],
   "source": [
    "# When you put an integer and floating point in an expression, the integer is implicitly converted to a float\n",
    "# You can Explicitly control this with the built-in functions int() and float()\n",
    "print(float(99) + 100)"
   ]
  },
  {
   "cell_type": "code",
   "execution_count": 96,
   "id": "65945305-ad34-4b85-8b37-427f51307a7b",
   "metadata": {},
   "outputs": [
    {
     "data": {
      "text/plain": [
       "int"
      ]
     },
     "execution_count": 96,
     "metadata": {},
     "output_type": "execute_result"
    }
   ],
   "source": [
    "i = 42\n",
    "type(i)"
   ]
  },
  {
   "cell_type": "code",
   "execution_count": 94,
   "id": "17431b33-6660-42b1-9ea3-966542a8e4fa",
   "metadata": {},
   "outputs": [
    {
     "name": "stdout",
     "output_type": "stream",
     "text": [
      "42.0\n"
     ]
    },
    {
     "data": {
      "text/plain": [
       "float"
      ]
     },
     "execution_count": 94,
     "metadata": {},
     "output_type": "execute_result"
    }
   ],
   "source": [
    "f = float(i)\n",
    "print(f)\n",
    "type(f)"
   ]
  },
  {
   "cell_type": "code",
   "execution_count": 98,
   "id": "096604bd-4b6a-4391-906f-00a0d475f41b",
   "metadata": {},
   "outputs": [
    {
     "name": "stdout",
     "output_type": "stream",
     "text": [
      "5.0\n",
      "4.5\n",
      "0.99\n",
      "5.0\n",
      "0.99\n"
     ]
    }
   ],
   "source": [
    "# Integer division produces a floating point result\n",
    "print(10 / 2)\n",
    "print(9 / 2)\n",
    "print(99 / 100)\n",
    "print(10.0 / 2.0)\n",
    "print(99.0 / 100.0)"
   ]
  },
  {
   "cell_type": "code",
   "execution_count": 120,
   "id": "108f0d12-93ee-4404-80f5-4c452b893891",
   "metadata": {},
   "outputs": [
    {
     "data": {
      "text/plain": [
       "str"
      ]
     },
     "execution_count": 120,
     "metadata": {},
     "output_type": "execute_result"
    }
   ],
   "source": [
    "# String Conversions\n",
    "sval = '123'\n",
    "type(sval)"
   ]
  },
  {
   "cell_type": "code",
   "execution_count": 112,
   "id": "5df5d46e-a136-4758-8a39-c338bbf191fc",
   "metadata": {},
   "outputs": [
    {
     "ename": "TypeError",
     "evalue": "can only concatenate str (not \"int\") to str",
     "output_type": "error",
     "traceback": [
      "\u001b[1;31m---------------------------------------------------------------------------\u001b[0m",
      "\u001b[1;31mTypeError\u001b[0m                                 Traceback (most recent call last)",
      "Cell \u001b[1;32mIn[112], line 1\u001b[0m\n\u001b[1;32m----> 1\u001b[0m \u001b[38;5;28mprint\u001b[39m(sval \u001b[38;5;241m+\u001b[39m \u001b[38;5;241m1\u001b[39m)\n",
      "\u001b[1;31mTypeError\u001b[0m: can only concatenate str (not \"int\") to str"
     ]
    }
   ],
   "source": [
    "print(sval + 1) # Error"
   ]
  },
  {
   "cell_type": "code",
   "execution_count": 116,
   "id": "50d25827-175e-4cd5-a777-8ac8f97c5fbb",
   "metadata": {},
   "outputs": [
    {
     "data": {
      "text/plain": [
       "int"
      ]
     },
     "execution_count": 116,
     "metadata": {},
     "output_type": "execute_result"
    }
   ],
   "source": [
    "ival = int(sval)\n",
    "type(ival)"
   ]
  },
  {
   "cell_type": "code",
   "execution_count": 118,
   "id": "71863506-e341-4589-8954-93f9c778c00b",
   "metadata": {},
   "outputs": [
    {
     "name": "stdout",
     "output_type": "stream",
     "text": [
      "124\n"
     ]
    }
   ],
   "source": [
    "print(ival + 1)"
   ]
  },
  {
   "cell_type": "code",
   "execution_count": 122,
   "id": "d5eea00b-31b7-400d-8ada-9d508ba48b9e",
   "metadata": {},
   "outputs": [
    {
     "ename": "ValueError",
     "evalue": "invalid literal for int() with base 10: 'hello bob'",
     "output_type": "error",
     "traceback": [
      "\u001b[1;31m---------------------------------------------------------------------------\u001b[0m",
      "\u001b[1;31mValueError\u001b[0m                                Traceback (most recent call last)",
      "Cell \u001b[1;32mIn[122], line 3\u001b[0m\n\u001b[0;32m      1\u001b[0m \u001b[38;5;66;03m# You will get an error if the string does not contain numeric characters\u001b[39;00m\n\u001b[0;32m      2\u001b[0m nsv \u001b[38;5;241m=\u001b[39m \u001b[38;5;124m'\u001b[39m\u001b[38;5;124mhello bob\u001b[39m\u001b[38;5;124m'\u001b[39m\n\u001b[1;32m----> 3\u001b[0m niv \u001b[38;5;241m=\u001b[39m \u001b[38;5;28mint\u001b[39m(nsv)\n",
      "\u001b[1;31mValueError\u001b[0m: invalid literal for int() with base 10: 'hello bob'"
     ]
    }
   ],
   "source": [
    "# You will get an error if the string does not contain numeric characters\n",
    "nsv = 'hello bob'\n",
    "niv = int(nsv) # Error"
   ]
  },
  {
   "cell_type": "code",
   "execution_count": 124,
   "id": "22942136-5596-456a-8988-f63283aa5298",
   "metadata": {},
   "outputs": [
    {
     "name": "stdin",
     "output_type": "stream",
     "text": [
      "Who are you?  Yusra\n"
     ]
    },
    {
     "name": "stdout",
     "output_type": "stream",
     "text": [
      "Welcome Yusra\n"
     ]
    }
   ],
   "source": [
    "# We can instruct Python to pause and read data from the user using the input() function\n",
    "# The input() function returns a string\n",
    "nam = input('Who are you? ')\n",
    "print('Welcome', nam)"
   ]
  },
  {
   "cell_type": "code",
   "execution_count": 126,
   "id": "978569aa-a28c-4ec1-82a7-bf2496dc4f6b",
   "metadata": {},
   "outputs": [
    {
     "name": "stdin",
     "output_type": "stream",
     "text": [
      "Europe floor? 5\n"
     ]
    },
    {
     "name": "stdout",
     "output_type": "stream",
     "text": [
      "US floor 6\n"
     ]
    }
   ],
   "source": [
    "# Converting User Input\n",
    "inp = input('Europe floor?')\n",
    "usf = int(inp) + 1\n",
    "print('US floor', usf)"
   ]
  },
  {
   "cell_type": "code",
   "execution_count": 134,
   "id": "265b7db8-6936-45e4-8471-7de9af4db321",
   "metadata": {},
   "outputs": [
    {
     "name": "stdin",
     "output_type": "stream",
     "text": [
      "Enter Hours:  35\n",
      "Enter Rate:  2.75\n"
     ]
    },
    {
     "name": "stdout",
     "output_type": "stream",
     "text": [
      "Pay:  96.25\n"
     ]
    }
   ],
   "source": [
    "hr = input('Enter Hours: ')\n",
    "rt = input('Enter Rate: ')\n",
    "pay = float(hr) * float(rt)\n",
    "print(\"Pay: \", pay)"
   ]
  },
  {
   "cell_type": "code",
   "execution_count": null,
   "id": "4c6362dc-553e-4e2d-b0e1-de270b4a50fd",
   "metadata": {},
   "outputs": [],
   "source": []
  }
 ],
 "metadata": {
  "kernelspec": {
   "display_name": "Python 3 (ipykernel)",
   "language": "python",
   "name": "python3"
  },
  "language_info": {
   "codemirror_mode": {
    "name": "ipython",
    "version": 3
   },
   "file_extension": ".py",
   "mimetype": "text/x-python",
   "name": "python",
   "nbconvert_exporter": "python",
   "pygments_lexer": "ipython3",
   "version": "3.12.4"
  }
 },
 "nbformat": 4,
 "nbformat_minor": 5
}
