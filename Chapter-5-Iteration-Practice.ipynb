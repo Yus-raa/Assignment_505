{
 "cells": [
  {
   "cell_type": "code",
   "execution_count": 3,
   "id": "be65e870-d5d0-4444-ad42-79c8f7814daa",
   "metadata": {},
   "outputs": [
    {
     "name": "stdout",
     "output_type": "stream",
     "text": [
      "5\n",
      "4\n",
      "3\n",
      "2\n",
      "1\n",
      "Blastoff!\n",
      "0\n"
     ]
    }
   ],
   "source": [
    "# Repeated Steps\n",
    "n = 5\n",
    "while n > 0 :\n",
    "    print(n)\n",
    "    n = n - 1\n",
    "print('Blastoff!')\n",
    "print(n)\n",
    "\n",
    "# Loops (repeated steps) have iteration variables that change each time through a loop. Often these iteration variables go through a sequence of numbers."
   ]
  },
  {
   "cell_type": "code",
   "execution_count": 3,
   "id": "e87c8ca0-b42a-4816-b112-0b512c285799",
   "metadata": {},
   "outputs": [
    {
     "name": "stdout",
     "output_type": "stream",
     "text": [
      "Lather\n",
      "Rinse\n",
      "Lather\n",
      "Rinse\n",
      "Lather\n",
      "Rinse\n",
      "Lather\n",
      "Rinse\n",
      "Lather\n",
      "Rinse\n",
      "Lather\n",
      "Rinse\n",
      "Lather\n",
      "Rinse\n",
      "Lather\n",
      "Rinse\n",
      "Lather\n",
      "Rinse\n",
      "Dry off!\n"
     ]
    }
   ],
   "source": [
    "# An Infinite Loop\n",
    "n = 5\n",
    "while n > 0 :\n",
    "    print('Lather')\n",
    "    print('Rinse')\n",
    "print('Dry off!')\n",
    "# What is wrong with this loop?\n",
    "# it will never end because n will never become less than 0, thus it will go on infinitly."
   ]
  },
  {
   "cell_type": "code",
   "execution_count": 7,
   "id": "2a15412e-c498-49d7-955e-a2de59399c7d",
   "metadata": {},
   "outputs": [
    {
     "name": "stdout",
     "output_type": "stream",
     "text": [
      "Dry off!\n"
     ]
    }
   ],
   "source": [
    "n = 0\n",
    "while n > 0 :\n",
    "    print('Lather')\n",
    "    print('Rinse')\n",
    "print('Dry off!')\n",
    "# What is this loop doing?\n",
    "# The loop will not run because the condition will never be met."
   ]
  },
  {
   "cell_type": "code",
   "execution_count": 11,
   "id": "79800fd9-543a-4009-aa67-6bb7645c2fa5",
   "metadata": {},
   "outputs": [
    {
     "name": "stdin",
     "output_type": "stream",
     "text": [
      ">  Hello There!\n"
     ]
    },
    {
     "name": "stdout",
     "output_type": "stream",
     "text": [
      "Hello There!\n"
     ]
    },
    {
     "name": "stdin",
     "output_type": "stream",
     "text": [
      ">  Finished!\n"
     ]
    },
    {
     "name": "stdout",
     "output_type": "stream",
     "text": [
      "Finished!\n"
     ]
    },
    {
     "name": "stdin",
     "output_type": "stream",
     "text": [
      ">  done\n"
     ]
    },
    {
     "name": "stdout",
     "output_type": "stream",
     "text": [
      "Done!\n"
     ]
    }
   ],
   "source": [
    "# Breaking Out of a Loop\n",
    "# • The break statement ends the current loop and jumps to the statement immediately following the loop\n",
    "# • It is like a loop test that can happen anywhere in the body of the loop\n",
    "while True:\n",
    "    line = input('> ')\n",
    "    if line == 'done' :\n",
    "        break\n",
    "    print(line)\n",
    "print('Done!')"
   ]
  },
  {
   "cell_type": "code",
   "execution_count": 13,
   "id": "f942a73f-cb4f-46cf-8847-0d83b5a6962b",
   "metadata": {},
   "outputs": [
    {
     "name": "stdin",
     "output_type": "stream",
     "text": [
      ">  Hello There!\n"
     ]
    },
    {
     "name": "stdout",
     "output_type": "stream",
     "text": [
      "Hello There!\n"
     ]
    },
    {
     "name": "stdin",
     "output_type": "stream",
     "text": [
      ">  # Don't print this\n",
      ">  Print this\n"
     ]
    },
    {
     "name": "stdout",
     "output_type": "stream",
     "text": [
      "Print this\n"
     ]
    },
    {
     "name": "stdin",
     "output_type": "stream",
     "text": [
      ">  done\n"
     ]
    },
    {
     "name": "stdout",
     "output_type": "stream",
     "text": [
      "Done!\n"
     ]
    }
   ],
   "source": [
    "# The CONTINUE statement ends the current iteration and jumps to the top of the loop and starts the next iteration\n",
    "while True:\n",
    "    line = input('> ')\n",
    "    if line[0] == '#' :\n",
    "        continue\n",
    "    if line == 'done' :\n",
    "        break\n",
    "    print(line)\n",
    "print('Done!')\n",
    "\n",
    "# Indefinite Loops\n",
    "# • While loops are called “indefinite loops” because they keep going until a logical condition becomes False\n",
    "# • The loops we have seen so far are pretty easy to examine to see if they will terminate or if they will be “infinite loops”\n",
    "# • Sometimes it is a little harder to be sure if a loop will terminate"
   ]
  },
  {
   "cell_type": "code",
   "execution_count": 17,
   "id": "8088ea9b-a2f7-49e9-9d13-bb85a4f5e9ea",
   "metadata": {},
   "outputs": [],
   "source": [
    "# Definite Loops\n",
    "# Iterating over a set of items…\n",
    "# • Quite often we have a list of items of the lines in a file -effectively a finite set of things\n",
    "# • We can write a loop to run the loop once for each of the items in a set using the Python for construct\n",
    "# • These loops are called “definite loops” because they execute an exact number of times\n",
    "# • We say that “definite loops iterate through the members of a set”"
   ]
  },
  {
   "cell_type": "code",
   "execution_count": 19,
   "id": "ab71fab3-376b-4d5d-a01f-d624c7b0e34d",
   "metadata": {},
   "outputs": [
    {
     "name": "stdout",
     "output_type": "stream",
     "text": [
      "5\n",
      "4\n",
      "3\n",
      "2\n",
      "1\n",
      "Blastoff!\n"
     ]
    }
   ],
   "source": [
    "# A Simple Definite Loop\n",
    "for i in [5, 4, 3, 2, 1] :\n",
    "    print(i)\n",
    "print('Blastoff!')\n",
    "# The iteration variable moves through all of the values inthe sequence\n",
    "# Definite loops (for loops) have explicit iteration variablesthat change each time through a loop. These iteration variables move through the sequence or set."
   ]
  },
  {
   "cell_type": "code",
   "execution_count": 21,
   "id": "3b077306-9530-43e4-bcfe-bd1f75ce4ceb",
   "metadata": {},
   "outputs": [
    {
     "name": "stdout",
     "output_type": "stream",
     "text": [
      "Happy New Year: Joseph\n",
      "Happy New Year: Glenn\n",
      "Happy New Year: Sally\n",
      "Done!\n"
     ]
    }
   ],
   "source": [
    "# A Definite Loop with Strings\n",
    "friends = ['Joseph', 'Glenn', 'Sally']\n",
    "for friend in friends : \n",
    "    print('Happy New Year:', friend)\n",
    "print('Done!')\n"
   ]
  },
  {
   "cell_type": "code",
   "execution_count": 23,
   "id": "a5832a31-5a21-425b-8b20-ef2295dfcd3f",
   "metadata": {},
   "outputs": [
    {
     "name": "stdout",
     "output_type": "stream",
     "text": [
      "Before\n",
      "9\n",
      "41\n",
      "12\n",
      "3\n",
      "74\n",
      "15\n",
      "After\n"
     ]
    }
   ],
   "source": [
    "print('Before')\n",
    "for thing in [9, 41, 12, 3, 74, 15] :\n",
    "    print(thing)\n",
    "print('After')"
   ]
  },
  {
   "cell_type": "code",
   "execution_count": 25,
   "id": "59566823-c400-4f00-8c68-f7354256dfc5",
   "metadata": {},
   "outputs": [
    {
     "name": "stdout",
     "output_type": "stream",
     "text": [
      "Before -1\n",
      "9 9\n",
      "41 41\n",
      "41 12\n",
      "41 3\n",
      "74 74\n",
      "74 15\n",
      "After 74\n"
     ]
    }
   ],
   "source": [
    "# Finding the Largest Value\n",
    "largest_so_far = -1\n",
    "print('Before', largest_so_far)\n",
    "for the_num in [9, 41, 12, 3, 74, 15] :\n",
    "    if the_num > largest_so_far :\n",
    "        largest_so_far = the_num\n",
    "    print(largest_so_far, the_num)\n",
    "print('After', largest_so_far)"
   ]
  },
  {
   "cell_type": "code",
   "execution_count": 27,
   "id": "3cc6bd1b-193f-4574-96ac-272d7e4359d0",
   "metadata": {},
   "outputs": [
    {
     "name": "stdout",
     "output_type": "stream",
     "text": [
      "Before 0\n",
      "1 9\n",
      "2 41\n",
      "3 12\n",
      "4 3\n",
      "5 74\n",
      "6 15\n",
      "After 6\n"
     ]
    }
   ],
   "source": [
    "# Counting in a Loop\n",
    "zork = 0\n",
    "print('Before', zork)\n",
    "for thing in [9, 41, 12, 3, 74, 15] :\n",
    "    zork = zork + 1\n",
    "    print(zork, thing)\n",
    "print('After', zork)\n",
    "# To count how many times we execute a loop, we introduce a counter variable that starts at 0 and we add one to it each time through the loop."
   ]
  },
  {
   "cell_type": "code",
   "execution_count": 29,
   "id": "2c1eabe5-63e6-4dec-85de-36a32f7a1bad",
   "metadata": {},
   "outputs": [
    {
     "name": "stdout",
     "output_type": "stream",
     "text": [
      "Before 0\n",
      "9 9\n",
      "50 41\n",
      "62 12\n",
      "65 3\n",
      "139 74\n",
      "154 15\n",
      "After 154\n"
     ]
    }
   ],
   "source": [
    "# Summing in a Loop\n",
    "zork = 0\n",
    "print('Before', zork)\n",
    "for thing in [9, 41, 12, 3, 74, 15] :\n",
    "    zork = zork + thing\n",
    "    print(zork, thing)\n",
    "print('After', zork)\n",
    "# To add up a value we encounter in a loop, we introduce a sum variable that starts at 0 and we add the value to the sum each time through the loop"
   ]
  },
  {
   "cell_type": "code",
   "execution_count": 35,
   "id": "fab4f855-0b89-4703-9d39-fbf12c786629",
   "metadata": {},
   "outputs": [
    {
     "name": "stdout",
     "output_type": "stream",
     "text": [
      "Before 0 0\n",
      "1 9 9\n",
      "2 50 41\n",
      "3 62 12\n",
      "4 65 3\n",
      "5 139 74\n",
      "6 154 15\n",
      "After 6 154 25.666666666666668\n"
     ]
    }
   ],
   "source": [
    "# Finding the Average in a Loop\n",
    "count = 0\n",
    "sum = 0\n",
    "print('Before', count, sum)\n",
    "for value in [9, 41, 12, 3, 74, 15] :\n",
    "    count = count + 1\n",
    "    sum = sum + value\n",
    "    print(count, sum, value)\n",
    "print('After', count, sum, sum / count)\n",
    "# An average just combines the counting and sum patterns and divides when the loop is done."
   ]
  },
  {
   "cell_type": "code",
   "execution_count": 37,
   "id": "1703ef4b-afcf-4700-8c9f-18e19eb7a79f",
   "metadata": {},
   "outputs": [
    {
     "name": "stdout",
     "output_type": "stream",
     "text": [
      "Before\n",
      "Large number 41\n",
      "Large number 74\n",
      "After\n"
     ]
    }
   ],
   "source": [
    "# Filtering in a Loop\n",
    "print('Before')\n",
    "for value in [9, 41, 12, 3, 74, 15] :\n",
    "    if value > 20:\n",
    "        print('Large number',value)\n",
    "print('After')\n",
    "# We use an if statement in the loop to catch / filter the values we are looking for."
   ]
  },
  {
   "cell_type": "code",
   "execution_count": 39,
   "id": "a01acf06-b391-4b5d-a03b-68a8ba4e6a3c",
   "metadata": {},
   "outputs": [
    {
     "name": "stdout",
     "output_type": "stream",
     "text": [
      "Before False\n",
      "False 9\n",
      "False 41\n",
      "False 12\n",
      "True 3\n",
      "True 74\n",
      "True 15\n",
      "After True\n"
     ]
    }
   ],
   "source": [
    "# Search Using a Boolean Variable\n",
    "found = False\n",
    "print('Before', found)\n",
    "for value in [9, 41, 12, 3, 74, 15] : \n",
    "    if value == 3 :\n",
    "        found = True\n",
    "    print(found, value)\n",
    "print('After', found)\n",
    "# If we just want to search and know if a value was found, we use a variable that starts at False and is set to True as soon as we find what we are looking for"
   ]
  },
  {
   "cell_type": "code",
   "execution_count": 43,
   "id": "dc009aae-315e-4eed-a76c-7618448978ae",
   "metadata": {},
   "outputs": [
    {
     "name": "stdout",
     "output_type": "stream",
     "text": [
      "Before -1\n",
      "9 9\n",
      "41 41\n",
      "41 12\n",
      "41 3\n",
      "74 74\n",
      "74 15\n",
      "After 74\n",
      "Before -1\n",
      "-1 9\n",
      "-1 41\n",
      "-1 12\n",
      "-1 3\n",
      "-1 74\n",
      "-1 15\n",
      "After -1\n"
     ]
    }
   ],
   "source": [
    "# How to Find the Smallest Value?\n",
    "largest_so_far = -1\n",
    "print('Before', largest_so_far)\n",
    "for the_num in [9, 41, 12, 3, 74, 15] :\n",
    "    if the_num > largest_so_far :\n",
    "        largest_so_far = the_num\n",
    "    print(largest_so_far, the_num)\n",
    "print('After', largest_so_far)\n",
    "\n",
    "# How would we change this to make it find the smallest value in the list?\n",
    "smallest_so_far = -1\n",
    "print('Before', smallest_so_far)\n",
    "for the_num in [9, 41, 12, 3, 74, 15] :\n",
    "    if the_num < smallest_so_far :\n",
    "        smallest_so_far = the_num\n",
    "    print(smallest_so_far, the_num)\n",
    "print('After', smallest_so_far)\n",
    "# We switched the variable name to smallest_so_far and switched the > to <"
   ]
  },
  {
   "cell_type": "code",
   "execution_count": 45,
   "id": "669b3bad-1b34-4958-9444-bf2eb48e58df",
   "metadata": {},
   "outputs": [
    {
     "name": "stdout",
     "output_type": "stream",
     "text": [
      "Before\n",
      "9 9\n",
      "9 41\n",
      "9 12\n",
      "3 3\n",
      "3 74\n",
      "3 15\n",
      "After 3\n"
     ]
    }
   ],
   "source": [
    "# Finding the Smallest Value\n",
    "smallest = None\n",
    "print('Before')\n",
    "for value in [9, 41, 12, 3, 74, 15] :\n",
    "    if smallest is None : \n",
    "        smallest = value\n",
    "    elif value < smallest : \n",
    "        smallest = value\n",
    "    print(smallest, value)\n",
    "print('After', smallest)\n",
    "# We still have a variable that is the smallest so far. The first time through the loop smallest is None, so we take the first value to be the smallest."
   ]
  },
  {
   "cell_type": "code",
   "execution_count": 47,
   "id": "70c2ef5e-a2da-4858-8be0-b047bad463e2",
   "metadata": {},
   "outputs": [
    {
     "name": "stdout",
     "output_type": "stream",
     "text": [
      "Before\n",
      "3 3\n",
      "3 41\n",
      "3 12\n",
      "3 9\n",
      "3 74\n",
      "3 15\n",
      "After 3\n"
     ]
    }
   ],
   "source": [
    "# The is and is not Operators\n",
    "smallest = None\n",
    "print('Before')\n",
    "for value in [3, 41, 12, 9, 74, 15] :\n",
    "    if smallest is None : \n",
    "        smallest = value\n",
    "    elif value < smallest : \n",
    "        smallest = value\n",
    "    print(smallest, value)\n",
    "print('After', smallest)\n",
    "# • Python has an is operator that can be used in logical expressions\n",
    "# • Implies “is the same as”\n",
    "# • Similar to, but stronger than ==\n",
    "# • is not also is a logical operator"
   ]
  },
  {
   "cell_type": "code",
   "execution_count": null,
   "id": "f07efe4e-6f90-4868-8be2-92b29baa0990",
   "metadata": {},
   "outputs": [],
   "source": []
  }
 ],
 "metadata": {
  "kernelspec": {
   "display_name": "Python 3 (ipykernel)",
   "language": "python",
   "name": "python3"
  },
  "language_info": {
   "codemirror_mode": {
    "name": "ipython",
    "version": 3
   },
   "file_extension": ".py",
   "mimetype": "text/x-python",
   "name": "python",
   "nbconvert_exporter": "python",
   "pygments_lexer": "ipython3",
   "version": "3.12.4"
  }
 },
 "nbformat": 4,
 "nbformat_minor": 5
}
