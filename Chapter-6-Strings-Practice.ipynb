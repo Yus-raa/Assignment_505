{
 "cells": [
  {
   "cell_type": "code",
   "execution_count": 1,
   "id": "5a0384f8-32a0-419b-8767-9e22bc2b72ef",
   "metadata": {},
   "outputs": [
    {
     "name": "stdout",
     "output_type": "stream",
     "text": [
      "Hellothere\n"
     ]
    }
   ],
   "source": [
    "# String Data Type\n",
    ">>> str1 = \"Hello\"\n",
    ">>> str2 = 'there'\n",
    ">>> bob = str1 + str2\n",
    ">>> print(bob)"
   ]
  },
  {
   "cell_type": "code",
   "execution_count": 3,
   "id": "daabe61a-ec19-4542-b425-74db21aa41b6",
   "metadata": {},
   "outputs": [
    {
     "ename": "TypeError",
     "evalue": "can only concatenate str (not \"int\") to str",
     "output_type": "error",
     "traceback": [
      "\u001b[1;31m---------------------------------------------------------------------------\u001b[0m",
      "\u001b[1;31mTypeError\u001b[0m                                 Traceback (most recent call last)",
      "Cell \u001b[1;32mIn[3], line 2\u001b[0m\n\u001b[0;32m      1\u001b[0m str3 \u001b[38;5;241m=\u001b[39m \u001b[38;5;124m'\u001b[39m\u001b[38;5;124m123\u001b[39m\u001b[38;5;124m'\u001b[39m\n\u001b[1;32m----> 2\u001b[0m str3 \u001b[38;5;241m=\u001b[39m str3 \u001b[38;5;241m+\u001b[39m \u001b[38;5;241m1\u001b[39m\n",
      "\u001b[1;31mTypeError\u001b[0m: can only concatenate str (not \"int\") to str"
     ]
    }
   ],
   "source": [
    ">>> str3 = '123'\n",
    ">>> str3 = str3 + 1 #Error"
   ]
  },
  {
   "cell_type": "code",
   "execution_count": 5,
   "id": "e5c87559-74e2-4ac8-8151-d2184be5a404",
   "metadata": {},
   "outputs": [
    {
     "name": "stdout",
     "output_type": "stream",
     "text": [
      "124\n"
     ]
    }
   ],
   "source": [
    ">>> x = int(str3) + 1\n",
    ">>> print(x)"
   ]
  },
  {
   "cell_type": "code",
   "execution_count": 7,
   "id": "6c99d023-1650-49b6-9aa6-7f9dfedc407f",
   "metadata": {},
   "outputs": [
    {
     "name": "stdin",
     "output_type": "stream",
     "text": [
      "Enter: Chuck\n"
     ]
    },
    {
     "name": "stdout",
     "output_type": "stream",
     "text": [
      "Chuck\n"
     ]
    }
   ],
   "source": [
    "# Reading and Converting\n",
    ">>> name = input('Enter:')\n",
    ">>> print(name)"
   ]
  },
  {
   "cell_type": "code",
   "execution_count": 13,
   "id": "b9a25fd8-9df9-459e-8f8f-e23ec630da7d",
   "metadata": {},
   "outputs": [
    {
     "name": "stdin",
     "output_type": "stream",
     "text": [
      "Enter: 100\n"
     ]
    },
    {
     "ename": "TypeError",
     "evalue": "unsupported operand type(s) for -: 'str' and 'int'",
     "output_type": "error",
     "traceback": [
      "\u001b[1;31m---------------------------------------------------------------------------\u001b[0m",
      "\u001b[1;31mTypeError\u001b[0m                                 Traceback (most recent call last)",
      "Cell \u001b[1;32mIn[13], line 2\u001b[0m\n\u001b[0;32m      1\u001b[0m apple \u001b[38;5;241m=\u001b[39m \u001b[38;5;28minput\u001b[39m(\u001b[38;5;124m'\u001b[39m\u001b[38;5;124mEnter:\u001b[39m\u001b[38;5;124m'\u001b[39m)\n\u001b[1;32m----> 2\u001b[0m x \u001b[38;5;241m=\u001b[39m apple \u001b[38;5;241m-\u001b[39m \u001b[38;5;241m10\u001b[39m\n",
      "\u001b[1;31mTypeError\u001b[0m: unsupported operand type(s) for -: 'str' and 'int'"
     ]
    }
   ],
   "source": [
    ">>> apple = input('Enter:')\n",
    ">>> x = apple - 10"
   ]
  },
  {
   "cell_type": "code",
   "execution_count": 17,
   "id": "66c5058f-1c0a-42d0-b227-5810606208af",
   "metadata": {},
   "outputs": [
    {
     "name": "stdout",
     "output_type": "stream",
     "text": [
      "90\n"
     ]
    }
   ],
   "source": [
    ">>> x = int(apple) - 10\n",
    ">>> print(x)"
   ]
  },
  {
   "cell_type": "code",
   "execution_count": 23,
   "id": "144b2519-8cc4-4bb9-be48-4055a673e0d2",
   "metadata": {},
   "outputs": [
    {
     "name": "stdout",
     "output_type": "stream",
     "text": [
      "a\n",
      "n\n"
     ]
    }
   ],
   "source": [
    "# Looking Inside Strings\n",
    "# • We can get at any single character in a string using an index specified insquare brackets\n",
    "# • The index value must be an integer and starts at zero\n",
    "# • The index value can be an expression that is computed\n",
    "\n",
    ">>> fruit = 'banana'\n",
    ">>> letter = fruit[1]\n",
    ">>> print(letter)\n",
    "\n",
    ">>> x = 3\n",
    ">>> w = fruit[x - 1]\n",
    ">>> print(w)"
   ]
  },
  {
   "cell_type": "code",
   "execution_count": 27,
   "id": "523c7334-5500-4aa7-9e7d-bc709e4c373e",
   "metadata": {},
   "outputs": [
    {
     "ename": "IndexError",
     "evalue": "string index out of range",
     "output_type": "error",
     "traceback": [
      "\u001b[1;31m---------------------------------------------------------------------------\u001b[0m",
      "\u001b[1;31mIndexError\u001b[0m                                Traceback (most recent call last)",
      "Cell \u001b[1;32mIn[27], line 2\u001b[0m\n\u001b[0;32m      1\u001b[0m zot \u001b[38;5;241m=\u001b[39m\u001b[38;5;124m'\u001b[39m\u001b[38;5;124mabc\u001b[39m\u001b[38;5;124m'\u001b[39m\n\u001b[1;32m----> 2\u001b[0m \u001b[38;5;28mprint\u001b[39m(zot[\u001b[38;5;241m5\u001b[39m])\n",
      "\u001b[1;31mIndexError\u001b[0m: string index out of range"
     ]
    }
   ],
   "source": [
    ">>> zot ='abc'\n",
    ">>> print(zot[5])\n",
    "# A Character Too Far\n",
    "# • You will get a python error if you attempt to index beyond the end of a string"
   ]
  },
  {
   "cell_type": "code",
   "execution_count": 31,
   "id": "05cb341d-25bd-493b-b613-b0b37b925130",
   "metadata": {},
   "outputs": [
    {
     "name": "stdout",
     "output_type": "stream",
     "text": [
      "6\n",
      "6\n"
     ]
    }
   ],
   "source": [
    "# Strings Have Length\n",
    "fruit = 'banana'\n",
    "print(len(fruit))\n",
    "\n",
    "# len Function\n",
    "fruit = 'banana'\n",
    "x = len(fruit)\n",
    "print(x)"
   ]
  },
  {
   "cell_type": "code",
   "execution_count": 33,
   "id": "e29ce068-814f-46be-8f2f-a901e2bb832b",
   "metadata": {},
   "outputs": [
    {
     "name": "stdout",
     "output_type": "stream",
     "text": [
      "0 b\n",
      "1 a\n",
      "2 n\n",
      "3 a\n",
      "4 n\n",
      "5 a\n"
     ]
    }
   ],
   "source": [
    "# Looping Through Strings\n",
    "fruit = \"banana\"\n",
    "index = 0\n",
    "while index < len(fruit):\n",
    "    print(index, fruit[index])\n",
    "    index = index + 1\n",
    "    "
   ]
  },
  {
   "cell_type": "code",
   "execution_count": 35,
   "id": "80a6fea4-c919-42a3-b2fe-0e286382e78f",
   "metadata": {},
   "outputs": [
    {
     "name": "stdout",
     "output_type": "stream",
     "text": [
      "B\n",
      "a\n",
      "n\n",
      "a\n",
      "n\n",
      "a\n"
     ]
    }
   ],
   "source": [
    "fruit = \"Banana\"\n",
    "for letter in fruit:\n",
    "    print(letter)"
   ]
  },
  {
   "cell_type": "code",
   "execution_count": 37,
   "id": "8cb3fbf8-1de1-4419-a739-c3b976cf1f0e",
   "metadata": {},
   "outputs": [
    {
     "name": "stdout",
     "output_type": "stream",
     "text": [
      "3\n"
     ]
    }
   ],
   "source": [
    "# This is a simple loop that loops through each letter in a string and counts the number of times the loop encounters the 'a' character\n",
    "word = \"banana\"\n",
    "count = 0\n",
    "for letter in word:\n",
    "    if letter == 'a':\n",
    "        count = count + 1\n",
    "print(count)"
   ]
  },
  {
   "cell_type": "code",
   "execution_count": 39,
   "id": "c0b8b7ca-cd7c-468b-9046-e03751e57610",
   "metadata": {},
   "outputs": [
    {
     "name": "stdout",
     "output_type": "stream",
     "text": [
      "Mont\n",
      "P\n",
      "Python\n"
     ]
    }
   ],
   "source": [
    "# Slicing Strings\n",
    "# • We can also look at any continuous section of a string using a colon operator\n",
    "s = 'Monty Python'\n",
    "print(s[0:4])\n",
    "\n",
    "# • The second number is one beyond the end of the slice -“up to but not including”\n",
    "print(s[6:7])\n",
    "\n",
    "# • If the second number is beyond the end of the string, it stops at the end\n",
    "print(s[6:20])"
   ]
  },
  {
   "cell_type": "code",
   "execution_count": 41,
   "id": "12341ca3-952a-42d3-9330-966f6e415e2c",
   "metadata": {},
   "outputs": [
    {
     "name": "stdout",
     "output_type": "stream",
     "text": [
      "Mo\n",
      "thon\n",
      "Monty Python\n"
     ]
    }
   ],
   "source": [
    "# If we leave off the first number or the last number of the slice, it is assumed to be the beginning or end of the string respectively\n",
    "s = 'Monty Python'\n",
    "\n",
    "print(s[:2])\n",
    "print(s[8:])\n",
    "print(s[:])"
   ]
  },
  {
   "cell_type": "code",
   "execution_count": 43,
   "id": "45794ab3-c365-45b6-9f3c-988ae1731de2",
   "metadata": {},
   "outputs": [
    {
     "name": "stdout",
     "output_type": "stream",
     "text": [
      "HelloThere\n",
      "Hello There\n"
     ]
    }
   ],
   "source": [
    "# When the + operator is applied to strings, it means “concatenation”\n",
    "a = 'Hello'\n",
    "b = a + 'There'\n",
    "print(b)\n",
    "\n",
    "c = a + ' ' + 'There'\n",
    "print(c)"
   ]
  },
  {
   "cell_type": "code",
   "execution_count": 63,
   "id": "aea9452a-941b-4660-b995-630193b0c66d",
   "metadata": {},
   "outputs": [
    {
     "data": {
      "text/plain": [
       "True"
      ]
     },
     "execution_count": 63,
     "metadata": {},
     "output_type": "execute_result"
    }
   ],
   "source": [
    "# Using in as a Logical Operator\n",
    "# • The in keyword can also be used to check to see if one string is “in” another string\n",
    ">>> fruit = 'banana'\n",
    ">>> 'n' in fruit\n",
    ">>> 'm' in fruit\n",
    ">>> 'nan' in fruit"
   ]
  },
  {
   "cell_type": "code",
   "execution_count": 65,
   "id": "9f3853eb-ecb9-4794-a8d6-62aa62d6e43e",
   "metadata": {},
   "outputs": [
    {
     "name": "stdout",
     "output_type": "stream",
     "text": [
      "Found it!\n"
     ]
    }
   ],
   "source": [
    "# The in expression is a logical expression that returns True or False and can be used in an if statement\n",
    "if 'a' in fruit :\n",
    "    print('Found it!')"
   ]
  },
  {
   "cell_type": "code",
   "execution_count": 73,
   "id": "0bf65678-d8ae-465e-8de5-b0a327a31c20",
   "metadata": {},
   "outputs": [
    {
     "name": "stdout",
     "output_type": "stream",
     "text": [
      "All right, bananas.\n",
      "All right, bananas.\n"
     ]
    }
   ],
   "source": [
    "if word == 'banana':\n",
    "    print('All right, bananas.')\n",
    "    \n",
    "if word < 'banana':\n",
    "    print('Your word,' + word + ', comes before banana.')\n",
    "elif word > 'banana':\n",
    "    print('Your word,' + word + ', comes after banana.')\n",
    "else:\n",
    "    print('All right, bananas.')\n"
   ]
  },
  {
   "cell_type": "code",
   "execution_count": 77,
   "id": "fe119bac-0bec-4703-9ab9-be203e8d9af1",
   "metadata": {},
   "outputs": [
    {
     "name": "stdout",
     "output_type": "stream",
     "text": [
      "hello bob\n",
      "Hello Bob\n",
      "hi there\n"
     ]
    }
   ],
   "source": [
    "# String Library\n",
    "greet = 'Hello Bob'\n",
    "zap = greet.lower()\n",
    "print(zap)\n",
    "print(greet)\n",
    "print('Hi There'.lower())\n",
    "# These functions do not modify the original string, instead they return a new string that has been altered"
   ]
  },
  {
   "cell_type": "code",
   "execution_count": 79,
   "id": "1f718af9-336b-4a3c-8517-54fc20ff0532",
   "metadata": {},
   "outputs": [
    {
     "data": {
      "text/plain": [
       "['__add__',\n",
       " '__class__',\n",
       " '__contains__',\n",
       " '__delattr__',\n",
       " '__dir__',\n",
       " '__doc__',\n",
       " '__eq__',\n",
       " '__format__',\n",
       " '__ge__',\n",
       " '__getattribute__',\n",
       " '__getitem__',\n",
       " '__getnewargs__',\n",
       " '__getstate__',\n",
       " '__gt__',\n",
       " '__hash__',\n",
       " '__init__',\n",
       " '__init_subclass__',\n",
       " '__iter__',\n",
       " '__le__',\n",
       " '__len__',\n",
       " '__lt__',\n",
       " '__mod__',\n",
       " '__mul__',\n",
       " '__ne__',\n",
       " '__new__',\n",
       " '__reduce__',\n",
       " '__reduce_ex__',\n",
       " '__repr__',\n",
       " '__rmod__',\n",
       " '__rmul__',\n",
       " '__setattr__',\n",
       " '__sizeof__',\n",
       " '__str__',\n",
       " '__subclasshook__',\n",
       " 'capitalize',\n",
       " 'casefold',\n",
       " 'center',\n",
       " 'count',\n",
       " 'encode',\n",
       " 'endswith',\n",
       " 'expandtabs',\n",
       " 'find',\n",
       " 'format',\n",
       " 'format_map',\n",
       " 'index',\n",
       " 'isalnum',\n",
       " 'isalpha',\n",
       " 'isascii',\n",
       " 'isdecimal',\n",
       " 'isdigit',\n",
       " 'isidentifier',\n",
       " 'islower',\n",
       " 'isnumeric',\n",
       " 'isprintable',\n",
       " 'isspace',\n",
       " 'istitle',\n",
       " 'isupper',\n",
       " 'join',\n",
       " 'ljust',\n",
       " 'lower',\n",
       " 'lstrip',\n",
       " 'maketrans',\n",
       " 'partition',\n",
       " 'removeprefix',\n",
       " 'removesuffix',\n",
       " 'replace',\n",
       " 'rfind',\n",
       " 'rindex',\n",
       " 'rjust',\n",
       " 'rpartition',\n",
       " 'rsplit',\n",
       " 'rstrip',\n",
       " 'split',\n",
       " 'splitlines',\n",
       " 'startswith',\n",
       " 'strip',\n",
       " 'swapcase',\n",
       " 'title',\n",
       " 'translate',\n",
       " 'upper',\n",
       " 'zfill']"
      ]
     },
     "execution_count": 79,
     "metadata": {},
     "output_type": "execute_result"
    }
   ],
   "source": [
    "stuff = 'Hello world'\n",
    ">>> type(stuff)\n",
    ">>> dir(stuff)"
   ]
  },
  {
   "cell_type": "code",
   "execution_count": 81,
   "id": "641ad9a5-8337-4fd7-aa58-78200c1c21f8",
   "metadata": {},
   "outputs": [
    {
     "name": "stdout",
     "output_type": "stream",
     "text": [
      "2\n",
      "-1\n"
     ]
    }
   ],
   "source": [
    "# Searching a String\n",
    "# • We use the find() function to search for a substring within another string\n",
    "# • find() finds the first occurrence of the substring\n",
    "fruit = 'banana'\n",
    "pos = fruit.find('na')\n",
    "print(pos)\n",
    "\n",
    "# • If the substring is not found, find()returns -1\n",
    "# • Remember that string position starts at zero\n",
    "aa = fruit.find('z')\n",
    "print(aa)"
   ]
  },
  {
   "cell_type": "code",
   "execution_count": 83,
   "id": "eb6a349d-bce5-4236-b195-0b5e21533c74",
   "metadata": {},
   "outputs": [
    {
     "name": "stdout",
     "output_type": "stream",
     "text": [
      "HELLO BOB\n",
      "hello bob\n"
     ]
    }
   ],
   "source": [
    "# Making everything UPPER CASE\n",
    "# • You can make a copy of a string in lower case or upper case\n",
    "greet = 'Hello Bob'\n",
    "nnn = greet.upper()\n",
    "print(nnn)\n",
    "# • Often when we are searching for a string using find() we first convert the string to lower case so we can search a string regardless of case\n",
    "www = greet.lower()\n",
    "print(www)"
   ]
  },
  {
   "cell_type": "code",
   "execution_count": 85,
   "id": "4484dffb-ea27-4970-b5af-335d9e75703e",
   "metadata": {},
   "outputs": [
    {
     "name": "stdout",
     "output_type": "stream",
     "text": [
      "Hello Jane\n",
      "HellX BXb\n"
     ]
    }
   ],
   "source": [
    "# Search and Replace\n",
    "# • The replace() function is like a “search and replace” operation in a word processor\n",
    "# • It replaces all occurrences of the search string with the replacement string\n",
    "greet = 'Hello Bob'\n",
    "nstr = greet.replace('Bob','Jane')\n",
    "print(nstr)\n",
    "\n",
    "nstr = greet.replace('o','X')\n",
    "print(nstr)"
   ]
  },
  {
   "cell_type": "code",
   "execution_count": 91,
   "id": "4886baf2-32f2-4876-a4dd-4d488b1f591d",
   "metadata": {},
   "outputs": [
    {
     "data": {
      "text/plain": [
       "'Hello Bob'"
      ]
     },
     "execution_count": 91,
     "metadata": {},
     "output_type": "execute_result"
    }
   ],
   "source": [
    "# Stripping Whitespace\n",
    "# • Sometimes we want to take a string and remove whitespace at the beginning and/or end\n",
    "# • lstrip() and rstrip() remove whitespace at the left or right\n",
    "greet = ' Hello Bob '\n",
    "greet.lstrip()\n",
    "greet.rstrip()\n",
    "# • strip() removes both beginning and ending whitespace\n",
    "greet.strip()"
   ]
  },
  {
   "cell_type": "code",
   "execution_count": 97,
   "id": "435c02fe-31e6-451b-bdb1-d62f29a24ad6",
   "metadata": {},
   "outputs": [
    {
     "data": {
      "text/plain": [
       "True"
      ]
     },
     "execution_count": 97,
     "metadata": {},
     "output_type": "execute_result"
    }
   ],
   "source": [
    "# Prefixes\n",
    ">>> line = 'Please have a nice day'\n",
    ">>> line.startswith('Please')"
   ]
  },
  {
   "cell_type": "code",
   "execution_count": 99,
   "id": "85448fd3-7ad9-4b89-b879-b16e3e3b9fe5",
   "metadata": {},
   "outputs": [
    {
     "data": {
      "text/plain": [
       "False"
      ]
     },
     "execution_count": 99,
     "metadata": {},
     "output_type": "execute_result"
    }
   ],
   "source": [
    ">>> line.startswith('p')"
   ]
  },
  {
   "cell_type": "code",
   "execution_count": 101,
   "id": "67b83c34-f70f-4ff0-90e3-88f31026fd22",
   "metadata": {},
   "outputs": [
    {
     "name": "stdout",
     "output_type": "stream",
     "text": [
      "21\n",
      "31\n",
      "uct.ac.za\n"
     ]
    }
   ],
   "source": [
    "# Parsing and Extracting\n",
    ">>> data = 'From stephen.marquard@uct.ac.za Sat Jan 5 09:14:16 2008'\n",
    ">>> atpos = data.find('@')\n",
    ">>> print(atpos)\n",
    "\n",
    ">>> sppos = data.find(' ',atpos)\n",
    ">>> print(sppos)\n",
    "\n",
    ">>> host = data[atpos+1 : sppos]\n",
    ">>> print(host)"
   ]
  },
  {
   "cell_type": "code",
   "execution_count": 107,
   "id": "98e68786-5920-485a-9a7d-e59c70e2d16d",
   "metadata": {},
   "outputs": [
    {
     "data": {
      "text/plain": [
       "str"
      ]
     },
     "execution_count": 107,
     "metadata": {},
     "output_type": "execute_result"
    }
   ],
   "source": [
    "# Two Kinds of Strings\n",
    ">>> x = '이광춘'\n",
    ">>> type(x)"
   ]
  },
  {
   "cell_type": "code",
   "execution_count": 105,
   "id": "87897e26-f9c1-4867-baed-1acc3bbb9ee2",
   "metadata": {},
   "outputs": [
    {
     "data": {
      "text/plain": [
       "str"
      ]
     },
     "execution_count": 105,
     "metadata": {},
     "output_type": "execute_result"
    }
   ],
   "source": [
    ">>> x = u'이광춘'\n",
    ">>> type(x)"
   ]
  },
  {
   "cell_type": "code",
   "execution_count": null,
   "id": "f5a928c4-7e03-4a66-939b-53a7c719fd7a",
   "metadata": {},
   "outputs": [],
   "source": []
  }
 ],
 "metadata": {
  "kernelspec": {
   "display_name": "Python 3 (ipykernel)",
   "language": "python",
   "name": "python3"
  },
  "language_info": {
   "codemirror_mode": {
    "name": "ipython",
    "version": 3
   },
   "file_extension": ".py",
   "mimetype": "text/x-python",
   "name": "python",
   "nbconvert_exporter": "python",
   "pygments_lexer": "ipython3",
   "version": "3.12.4"
  }
 },
 "nbformat": 4,
 "nbformat_minor": 5
}
