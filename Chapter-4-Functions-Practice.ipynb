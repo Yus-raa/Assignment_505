{
 "cells": [
  {
   "cell_type": "code",
   "execution_count": 3,
   "id": "5a7d182c-186b-4763-9eff-16f81d968d9b",
   "metadata": {},
   "outputs": [
    {
     "name": "stdout",
     "output_type": "stream",
     "text": [
      "Hello\n",
      "Fun\n",
      "Zip\n",
      "Hello\n",
      "Fun\n"
     ]
    }
   ],
   "source": [
    "# Functions: reusable pieces of code\n",
    "def thing():\n",
    "    print('Hello')\n",
    "    print('Fun')\n",
    "thing()\n",
    "print('Zip')\n",
    "thing()"
   ]
  },
  {
   "cell_type": "code",
   "execution_count": 5,
   "id": "33f9c69a-1fb2-4279-8654-576810a7cf30",
   "metadata": {},
   "outputs": [],
   "source": [
    "# Built-in functions that are provided as part of Python - \n",
    "# print() \n",
    "# input()\n",
    "# type()\n",
    "# float()\n",
    "# int()"
   ]
  },
  {
   "cell_type": "code",
   "execution_count": 7,
   "id": "ffd5e367-8f80-4369-ad40-81a557732e29",
   "metadata": {},
   "outputs": [
    {
     "name": "stdout",
     "output_type": "stream",
     "text": [
      "w\n",
      " \n"
     ]
    }
   ],
   "source": [
    "# Max Function\n",
    ">>> big = max('Hello world')\n",
    ">>> print(big)\n",
    "# Min Function\n",
    ">>> tiny = min('Hello world')\n",
    ">>> print(tiny)"
   ]
  },
  {
   "cell_type": "code",
   "execution_count": 21,
   "id": "a5abf3a3-ff01-43a8-88ef-643062fda203",
   "metadata": {},
   "outputs": [
    {
     "name": "stdout",
     "output_type": "stream",
     "text": [
      "0.99\n",
      "42.0\n",
      "-2.5\n"
     ]
    }
   ],
   "source": [
    "# Type Conversions\n",
    "# When you put an integer and floating point in an expression, the integer is implicitly converted to a float\n",
    "# You can control this with the built-in functions int() and float()\n",
    ">>> print(float(99) / 100)\n",
    "\n",
    ">>> i = 42\n",
    ">>> type(i)\n",
    "\n",
    ">>> f = float(i)\n",
    ">>> print(f)\n",
    ">>> type(f)\n",
    "\n",
    ">>> print(1 + 2 * float(3) / 4 - 5)"
   ]
  },
  {
   "cell_type": "code",
   "execution_count": 25,
   "id": "aaaa4643-a1c4-4c56-bd48-2fcf6c10f689",
   "metadata": {},
   "outputs": [
    {
     "ename": "TypeError",
     "evalue": "can only concatenate str (not \"int\") to str",
     "output_type": "error",
     "traceback": [
      "\u001b[1;31m---------------------------------------------------------------------------\u001b[0m",
      "\u001b[1;31mTypeError\u001b[0m                                 Traceback (most recent call last)",
      "Cell \u001b[1;32mIn[25], line 4\u001b[0m\n\u001b[0;32m      1\u001b[0m sval \u001b[38;5;241m=\u001b[39m \u001b[38;5;124m'\u001b[39m\u001b[38;5;124m123\u001b[39m\u001b[38;5;124m'\u001b[39m\n\u001b[0;32m      2\u001b[0m \u001b[38;5;28mtype\u001b[39m(sval)\n\u001b[1;32m----> 4\u001b[0m \u001b[38;5;28mprint\u001b[39m(sval \u001b[38;5;241m+\u001b[39m \u001b[38;5;241m1\u001b[39m)\n",
      "\u001b[1;31mTypeError\u001b[0m: can only concatenate str (not \"int\") to str"
     ]
    }
   ],
   "source": [
    "# String Conversions\n",
    "# You can also use int() and float() to convert between strings and integers\n",
    "# You will get an error if the string does not contain numeric characters\n",
    ">>> sval = '123'\n",
    ">>> type(sval)\n",
    "\n",
    ">>> print(sval + 1)"
   ]
  },
  {
   "cell_type": "code",
   "execution_count": 27,
   "id": "8cc7300b-afa4-492b-9b38-7cf3d5203a73",
   "metadata": {},
   "outputs": [
    {
     "data": {
      "text/plain": [
       "int"
      ]
     },
     "execution_count": 27,
     "metadata": {},
     "output_type": "execute_result"
    }
   ],
   "source": [
    ">>> ival = int(sval)\n",
    ">>> type(ival)"
   ]
  },
  {
   "cell_type": "code",
   "execution_count": 29,
   "id": "1395da5e-6478-4ca7-8841-1556be7878d3",
   "metadata": {},
   "outputs": [
    {
     "name": "stdout",
     "output_type": "stream",
     "text": [
      "124\n"
     ]
    }
   ],
   "source": [
    ">>> print(ival + 1)"
   ]
  },
  {
   "cell_type": "code",
   "execution_count": 31,
   "id": "8535482e-4c17-4ea4-9af4-12591e21dd62",
   "metadata": {},
   "outputs": [
    {
     "ename": "ValueError",
     "evalue": "invalid literal for int() with base 10: 'hello bob'",
     "output_type": "error",
     "traceback": [
      "\u001b[1;31m---------------------------------------------------------------------------\u001b[0m",
      "\u001b[1;31mValueError\u001b[0m                                Traceback (most recent call last)",
      "Cell \u001b[1;32mIn[31], line 2\u001b[0m\n\u001b[0;32m      1\u001b[0m nsv \u001b[38;5;241m=\u001b[39m \u001b[38;5;124m'\u001b[39m\u001b[38;5;124mhello bob\u001b[39m\u001b[38;5;124m'\u001b[39m\n\u001b[1;32m----> 2\u001b[0m niv \u001b[38;5;241m=\u001b[39m \u001b[38;5;28mint\u001b[39m(nsv)\n",
      "\u001b[1;31mValueError\u001b[0m: invalid literal for int() with base 10: 'hello bob'"
     ]
    }
   ],
   "source": [
    ">>> nsv = 'hello bob'\n",
    ">>> niv = int(nsv)"
   ]
  },
  {
   "cell_type": "code",
   "execution_count": 35,
   "id": "db581be8-160e-4422-bc35-effcc221d481",
   "metadata": {},
   "outputs": [],
   "source": [
    "# Building our Own Functions\n",
    "# • We create a new function using the def keyword followed by optional parameters in parentheses\n",
    "# • We indent the body of the function\n",
    "def print_lyrics():\n",
    "    print(\"I'm a lumberjack, and I'm okay.\")\n",
    "    print('I sleep all night and I work all day.')"
   ]
  },
  {
   "cell_type": "code",
   "execution_count": 39,
   "id": "486845b3-9669-4b46-8571-270b323ae341",
   "metadata": {},
   "outputs": [
    {
     "name": "stdout",
     "output_type": "stream",
     "text": [
      "Hello\n",
      "Yo\n",
      "7\n"
     ]
    }
   ],
   "source": [
    "x = 5\n",
    "print('Hello')\n",
    "def print_lyrics():\n",
    "    print(\"I'm a lumberjack, and I'm okay.\")\n",
    "    print('I sleep all night and I work all day.')\n",
    "print('Yo')\n",
    "x = x + 2\n",
    "print(x)"
   ]
  },
  {
   "cell_type": "code",
   "execution_count": 41,
   "id": "8355f916-951d-4537-bf39-91b0095166be",
   "metadata": {},
   "outputs": [
    {
     "name": "stdout",
     "output_type": "stream",
     "text": [
      "Hello\n",
      "Yo\n",
      "I'm a lumberjack, and I'm okay.\n",
      "I sleep all night and I work all day.\n",
      "7\n"
     ]
    }
   ],
   "source": [
    "# Once we have defined a function, we can call (or invoke) it as many times as we like\n",
    "# • This is the store and reuse pattern\n",
    "\n",
    "x = 5\n",
    "print('Hello')\n",
    "def print_lyrics(): \n",
    "    print(\"I'm a lumberjack, and I'm okay.\")\n",
    "    print('I sleep all night and I work all day.')\n",
    "print('Yo')\n",
    "print_lyrics()\n",
    "x = x + 2\n",
    "print(x)"
   ]
  },
  {
   "cell_type": "code",
   "execution_count": 43,
   "id": "7844b86a-3144-4ae1-aefc-873715c04d96",
   "metadata": {},
   "outputs": [],
   "source": [
    "# An argument is a value we pass into the function as its inputwhen we call the function\n",
    "# We use arguments so we can direct the function to do different kinds of work when we call it at different times\n",
    "big = max('Hello world')"
   ]
  },
  {
   "cell_type": "code",
   "execution_count": 45,
   "id": "9027429c-bfc0-458e-a953-3d7fe147483e",
   "metadata": {},
   "outputs": [
    {
     "name": "stdout",
     "output_type": "stream",
     "text": [
      "Hello\n",
      "Hola\n",
      "Bonjour\n"
     ]
    }
   ],
   "source": [
    "# A parameter is a variable which we use in the function definition.\n",
    "# It is a “handle” that allows the code in the function to access the arguments for a particular function invocation.\n",
    "\n",
    "def greet(lang):\n",
    "    if lang == 'es':\n",
    "        print('Hola')\n",
    "    elif lang == 'fr':\n",
    "        print('Bonjour')\n",
    "    else:\n",
    "        print('Hello')\n",
    "\n",
    "greet('en')\n",
    "\n",
    "greet('es')\n",
    "\n",
    "greet('fr')"
   ]
  },
  {
   "cell_type": "code",
   "execution_count": 51,
   "id": "12e1b91f-ba00-46b0-8037-3f9114fac40f",
   "metadata": {},
   "outputs": [
    {
     "name": "stdout",
     "output_type": "stream",
     "text": [
      "Hello Glenn\n",
      "Hello Sally\n"
     ]
    }
   ],
   "source": [
    "# Return Values\n",
    "# Often a function will take its arguments, do some computation, and return a value to be used as the value of the function call in the calling expression. The return keyword is used for this.\n",
    "\n",
    "def greet():\n",
    "    return \"Hello\"\n",
    "    \n",
    "print(greet(), \"Glenn\")\n",
    "print(greet(), \"Sally\")"
   ]
  },
  {
   "cell_type": "code",
   "execution_count": 53,
   "id": "adadb559-2e9b-44e3-ac4a-8c49c36d03dc",
   "metadata": {},
   "outputs": [
    {
     "name": "stdout",
     "output_type": "stream",
     "text": [
      "Hello Glenn\n",
      "Hola Sally\n",
      "Bonjour Michael\n"
     ]
    }
   ],
   "source": [
    "# • A “fruitful” function is one that produces a result (or return value)\n",
    "# • The return statement ends the function execution and “sends back” the result of the function\n",
    "\n",
    "def greet(lang):\n",
    "    if lang == 'es':\n",
    "        return 'Hola'\n",
    "    elif lang == 'fr':\n",
    "        return 'Bonjour'\n",
    "    else:\n",
    "        return 'Hello'\n",
    "\n",
    "print(greet('en'),'Glenn')\n",
    "\n",
    "print(greet('es'),'Sally')\n",
    "\n",
    "print(greet('fr'),'Michael')\n",
    "\n",
    "# When a function does not return a value, we call it a “void” function\n",
    "# • Functions that return values are “fruitful” functions\n",
    "# • Void functions are “not fruitful”"
   ]
  },
  {
   "cell_type": "code",
   "execution_count": 55,
   "id": "ccff3996-e926-4398-9969-d6094279dc14",
   "metadata": {},
   "outputs": [
    {
     "name": "stdout",
     "output_type": "stream",
     "text": [
      "8\n"
     ]
    }
   ],
   "source": [
    "# Multiple Parameters / Arguments\n",
    "# • We can define more than one parameter in the functiondefinition\n",
    "# • We simply add more argumentswhen we call the function\n",
    "# • We match the number and order of arguments and parameters\n",
    "\n",
    "def addtwo(a, b):\n",
    "    added = a + b\n",
    "    return added\n",
    "    \n",
    "x = addtwo(3, 5)\n",
    "print(x)"
   ]
  },
  {
   "cell_type": "code",
   "execution_count": 57,
   "id": "573e1923-d26c-4cbf-bac5-ad2344d4497a",
   "metadata": {},
   "outputs": [],
   "source": [
    "# To function or not to function...\n",
    "# • Organize your code into “paragraphs” - capture a complete thought and “name it”\n",
    "# • Don’t repeat yourself - make it work once and then reuse it\n",
    "# • If something gets too long or complex, break it up into logical chunks and put those chunks in functions\n",
    "# • Make a library of common stuff that you do over and over -perhaps share this with your friends..."
   ]
  },
  {
   "cell_type": "code",
   "execution_count": 61,
   "id": "e8a8362e-be3f-45ab-939b-2a1724243032",
   "metadata": {},
   "outputs": [
    {
     "name": "stdin",
     "output_type": "stream",
     "text": [
      "Enter Hours:  45\n",
      "Enter Rate:  10\n"
     ]
    },
    {
     "name": "stdout",
     "output_type": "stream",
     "text": [
      "Pay:  475.0\n"
     ]
    }
   ],
   "source": [
    "# Rewrite your pay computation with time-and-a-half for overtime and create a function called computepay which takes two parameters ( hours and rate).\n",
    "\n",
    "def compute_pay(hours, rate):\n",
    "    overtime_rate = 1.5  # Time-and-a-half rate\n",
    "    overtime_threshold = 40  # Overtime threshold in hours\n",
    "    \n",
    "    # Calculate regular pay and overtime pay\n",
    "    if hours <= overtime_threshold:\n",
    "        return hours * rate\n",
    "    else:\n",
    "        regular_hours = overtime_threshold\n",
    "        overtime_hours = hours - overtime_threshold\n",
    "        return (regular_hours * rate) + (overtime_hours * rate * overtime_rate)\n",
    "\n",
    "\n",
    "def get_numeric_input(prompt):\n",
    "    \n",
    "    while True:\n",
    "        try:\n",
    "            return float(input(prompt))\n",
    "        except ValueError:\n",
    "            print(\"Error, please enter numeric input.\")\n",
    "\n",
    "\n",
    "def main():\n",
    "    # Get hours and rate from user\n",
    "    hours = get_numeric_input(\"Enter Hours: \")\n",
    "    rate = get_numeric_input(\"Enter Rate: \")\n",
    "    \n",
    "    # Calculate and print pay\n",
    "    pay = compute_pay(hours, rate)\n",
    "    print(\"Pay: \", pay)\n",
    "\n",
    "\n",
    "if __name__ == \"__main__\":\n",
    "    main()\n"
   ]
  },
  {
   "cell_type": "code",
   "execution_count": null,
   "id": "9d47ea2f-cde0-4df5-a7b0-9061f8895e3d",
   "metadata": {},
   "outputs": [],
   "source": []
  }
 ],
 "metadata": {
  "kernelspec": {
   "display_name": "Python 3 (ipykernel)",
   "language": "python",
   "name": "python3"
  },
  "language_info": {
   "codemirror_mode": {
    "name": "ipython",
    "version": 3
   },
   "file_extension": ".py",
   "mimetype": "text/x-python",
   "name": "python",
   "nbconvert_exporter": "python",
   "pygments_lexer": "ipython3",
   "version": "3.12.4"
  }
 },
 "nbformat": 4,
 "nbformat_minor": 5
}
